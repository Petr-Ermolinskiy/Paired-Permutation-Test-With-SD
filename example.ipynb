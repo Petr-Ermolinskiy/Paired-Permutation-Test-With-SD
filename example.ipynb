{
 "cells": [
  {
   "cell_type": "code",
   "execution_count": null,
   "id": "1aa30fa3",
   "metadata": {},
   "outputs": [],
   "source": [
    "from permutation_with_SD import permutation_with_SD, plot_the_distribution"
   ]
  },
  {
   "cell_type": "code",
   "execution_count": null,
   "id": "de93b08e",
   "metadata": {},
   "outputs": [],
   "source": [
    "# first group - before treatment\n",
    "x = [20, 33, 20, 24]\n",
    "# SD of a parameter for the first group\n",
    "x_sd = [2, 2, 2, 2]\n",
    "\n",
    "# second group - after treatment\n",
    "y = [21, 34, 22, 25]\n",
    "# SD of a parameter for the second group\n",
    "y_sd = [2, 2, 2, 2]\n",
    "\n",
    "# p = calculate p-value; \n",
    "# average = the average difference in paramenter (%) comparing the first and the second group; \n",
    "# comb_all = the massive of all possible average differences calculted using permutations\n",
    "p, average, comb_all = permutation_with_SD(x, x_sd, y, y_sd, alternative='less')"
   ]
  },
  {
   "cell_type": "code",
   "execution_count": null,
   "id": "537f11e4",
   "metadata": {},
   "outputs": [],
   "source": [
    "# plot the destribution of all possible average differences calculted using permutations and the average difference in the initial data\n",
    "plot_the_distribution(comb_all, average)"
   ]
  },
  {
   "cell_type": "code",
   "execution_count": null,
   "id": "9e058951",
   "metadata": {},
   "outputs": [],
   "source": [
    "# optional: check the p-value using Wilcoxon signed-rank test \n",
    "from scipy.stats import wilcoxon\n",
    "\n",
    "wilcoxon(x, y, alternative='less')"
   ]
  }
 ],
 "metadata": {
  "kernelspec": {
   "display_name": "Python 3 (ipykernel)",
   "language": "python",
   "name": "python3"
  },
  "language_info": {
   "codemirror_mode": {
    "name": "ipython",
    "version": 3
   },
   "file_extension": ".py",
   "mimetype": "text/x-python",
   "name": "python",
   "nbconvert_exporter": "python",
   "pygments_lexer": "ipython3",
   "version": "3.11.3"
  }
 },
 "nbformat": 4,
 "nbformat_minor": 5
}
